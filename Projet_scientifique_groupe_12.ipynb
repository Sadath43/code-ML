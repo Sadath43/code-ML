{
  "cells": [
    {
      "cell_type": "markdown",
      "metadata": {
        "id": "view-in-github",
        "colab_type": "text"
      },
      "source": [
        "<a href=\"https://colab.research.google.com/github/Sadath43/code-ML/blob/main/Projet_scientifique_groupe_12.ipynb\" target=\"_parent\"><img src=\"https://colab.research.google.com/assets/colab-badge.svg\" alt=\"Open In Colab\"/></a>"
      ]
    },
    {
      "cell_type": "code",
      "execution_count": null,
      "metadata": {
        "id": "KQ9borbRAbNW"
      },
      "outputs": [],
      "source": [
        "import numpy as np\n",
        "import matplotlib.pyplot as plt\n",
        "import pandas as pd\n",
        "import datetime"
      ]
    },
    {
      "cell_type": "code",
      "execution_count": null,
      "metadata": {
        "id": "b70kGtbUA48J"
      },
      "outputs": [],
      "source": [
        "import warnings\n",
        "warnings.filterwarnings('ignore')"
      ]
    },
    {
      "cell_type": "code",
      "execution_count": 18,
      "metadata": {
        "id": "v9torei5A7Tg",
        "colab": {
          "base_uri": "https://localhost:8080/",
          "height": 311
        },
        "outputId": "c51cc057-87a5-477e-c868-8bde01b79786"
      },
      "outputs": [
        {
          "output_type": "error",
          "ename": "BadZipFile",
          "evalue": "ignored",
          "traceback": [
            "\u001b[0;31m---------------------------------------------------------------------------\u001b[0m",
            "\u001b[0;31mBadZipFile\u001b[0m                                Traceback (most recent call last)",
            "\u001b[0;32m<ipython-input-18-ca25951eed5d>\u001b[0m in \u001b[0;36m<module>\u001b[0;34m\u001b[0m\n\u001b[0;32m----> 1\u001b[0;31m \u001b[0mdata\u001b[0m\u001b[0;34m=\u001b[0m\u001b[0mpd\u001b[0m\u001b[0;34m.\u001b[0m\u001b[0mread_excel\u001b[0m\u001b[0;34m(\u001b[0m\u001b[0;34m'Modifiez_COLT_Etudiants_Casa_groupe2_2022.xlsx'\u001b[0m\u001b[0;34m)\u001b[0m\u001b[0;34m\u001b[0m\u001b[0;34m\u001b[0m\u001b[0m\n\u001b[0m",
            "\u001b[0;32m/usr/local/lib/python3.8/dist-packages/pandas/util/_decorators.py\u001b[0m in \u001b[0;36mwrapper\u001b[0;34m(*args, **kwargs)\u001b[0m\n\u001b[1;32m    309\u001b[0m                     \u001b[0mstacklevel\u001b[0m\u001b[0;34m=\u001b[0m\u001b[0mstacklevel\u001b[0m\u001b[0;34m,\u001b[0m\u001b[0;34m\u001b[0m\u001b[0;34m\u001b[0m\u001b[0m\n\u001b[1;32m    310\u001b[0m                 )\n\u001b[0;32m--> 311\u001b[0;31m             \u001b[0;32mreturn\u001b[0m \u001b[0mfunc\u001b[0m\u001b[0;34m(\u001b[0m\u001b[0;34m*\u001b[0m\u001b[0margs\u001b[0m\u001b[0;34m,\u001b[0m \u001b[0;34m**\u001b[0m\u001b[0mkwargs\u001b[0m\u001b[0;34m)\u001b[0m\u001b[0;34m\u001b[0m\u001b[0;34m\u001b[0m\u001b[0m\n\u001b[0m\u001b[1;32m    312\u001b[0m \u001b[0;34m\u001b[0m\u001b[0m\n\u001b[1;32m    313\u001b[0m         \u001b[0;32mreturn\u001b[0m \u001b[0mwrapper\u001b[0m\u001b[0;34m\u001b[0m\u001b[0;34m\u001b[0m\u001b[0m\n",
            "\u001b[0;32m/usr/local/lib/python3.8/dist-packages/pandas/io/excel/_base.py\u001b[0m in \u001b[0;36mread_excel\u001b[0;34m(io, sheet_name, header, names, index_col, usecols, squeeze, dtype, engine, converters, true_values, false_values, skiprows, nrows, na_values, keep_default_na, na_filter, verbose, parse_dates, date_parser, thousands, comment, skipfooter, convert_float, mangle_dupe_cols, storage_options)\u001b[0m\n\u001b[1;32m    362\u001b[0m     \u001b[0;32mif\u001b[0m \u001b[0;32mnot\u001b[0m \u001b[0misinstance\u001b[0m\u001b[0;34m(\u001b[0m\u001b[0mio\u001b[0m\u001b[0;34m,\u001b[0m \u001b[0mExcelFile\u001b[0m\u001b[0;34m)\u001b[0m\u001b[0;34m:\u001b[0m\u001b[0;34m\u001b[0m\u001b[0;34m\u001b[0m\u001b[0m\n\u001b[1;32m    363\u001b[0m         \u001b[0mshould_close\u001b[0m \u001b[0;34m=\u001b[0m \u001b[0;32mTrue\u001b[0m\u001b[0;34m\u001b[0m\u001b[0;34m\u001b[0m\u001b[0m\n\u001b[0;32m--> 364\u001b[0;31m         \u001b[0mio\u001b[0m \u001b[0;34m=\u001b[0m \u001b[0mExcelFile\u001b[0m\u001b[0;34m(\u001b[0m\u001b[0mio\u001b[0m\u001b[0;34m,\u001b[0m \u001b[0mstorage_options\u001b[0m\u001b[0;34m=\u001b[0m\u001b[0mstorage_options\u001b[0m\u001b[0;34m,\u001b[0m \u001b[0mengine\u001b[0m\u001b[0;34m=\u001b[0m\u001b[0mengine\u001b[0m\u001b[0;34m)\u001b[0m\u001b[0;34m\u001b[0m\u001b[0;34m\u001b[0m\u001b[0m\n\u001b[0m\u001b[1;32m    365\u001b[0m     \u001b[0;32melif\u001b[0m \u001b[0mengine\u001b[0m \u001b[0;32mand\u001b[0m \u001b[0mengine\u001b[0m \u001b[0;34m!=\u001b[0m \u001b[0mio\u001b[0m\u001b[0;34m.\u001b[0m\u001b[0mengine\u001b[0m\u001b[0;34m:\u001b[0m\u001b[0;34m\u001b[0m\u001b[0;34m\u001b[0m\u001b[0m\n\u001b[1;32m    366\u001b[0m         raise ValueError(\n",
            "\u001b[0;32m/usr/local/lib/python3.8/dist-packages/pandas/io/excel/_base.py\u001b[0m in \u001b[0;36m__init__\u001b[0;34m(self, path_or_buffer, engine, storage_options)\u001b[0m\n\u001b[1;32m   1189\u001b[0m                 \u001b[0mext\u001b[0m \u001b[0;34m=\u001b[0m \u001b[0;34m\"xls\"\u001b[0m\u001b[0;34m\u001b[0m\u001b[0;34m\u001b[0m\u001b[0m\n\u001b[1;32m   1190\u001b[0m             \u001b[0;32melse\u001b[0m\u001b[0;34m:\u001b[0m\u001b[0;34m\u001b[0m\u001b[0;34m\u001b[0m\u001b[0m\n\u001b[0;32m-> 1191\u001b[0;31m                 ext = inspect_excel_format(\n\u001b[0m\u001b[1;32m   1192\u001b[0m                     \u001b[0mcontent_or_path\u001b[0m\u001b[0;34m=\u001b[0m\u001b[0mpath_or_buffer\u001b[0m\u001b[0;34m,\u001b[0m \u001b[0mstorage_options\u001b[0m\u001b[0;34m=\u001b[0m\u001b[0mstorage_options\u001b[0m\u001b[0;34m\u001b[0m\u001b[0;34m\u001b[0m\u001b[0m\n\u001b[1;32m   1193\u001b[0m                 )\n",
            "\u001b[0;32m/usr/local/lib/python3.8/dist-packages/pandas/io/excel/_base.py\u001b[0m in \u001b[0;36minspect_excel_format\u001b[0;34m(content_or_path, storage_options)\u001b[0m\n\u001b[1;32m   1088\u001b[0m         \u001b[0;31m# ZipFile typing is overly-strict\u001b[0m\u001b[0;34m\u001b[0m\u001b[0;34m\u001b[0m\u001b[0;34m\u001b[0m\u001b[0m\n\u001b[1;32m   1089\u001b[0m         \u001b[0;31m# https://github.com/python/typeshed/issues/4212\u001b[0m\u001b[0;34m\u001b[0m\u001b[0;34m\u001b[0m\u001b[0;34m\u001b[0m\u001b[0m\n\u001b[0;32m-> 1090\u001b[0;31m         \u001b[0mzf\u001b[0m \u001b[0;34m=\u001b[0m \u001b[0mzipfile\u001b[0m\u001b[0;34m.\u001b[0m\u001b[0mZipFile\u001b[0m\u001b[0;34m(\u001b[0m\u001b[0mstream\u001b[0m\u001b[0;34m)\u001b[0m  \u001b[0;31m# type: ignore[arg-type]\u001b[0m\u001b[0;34m\u001b[0m\u001b[0;34m\u001b[0m\u001b[0m\n\u001b[0m\u001b[1;32m   1091\u001b[0m \u001b[0;34m\u001b[0m\u001b[0m\n\u001b[1;32m   1092\u001b[0m         \u001b[0;31m# Workaround for some third party files that use forward slashes and\u001b[0m\u001b[0;34m\u001b[0m\u001b[0;34m\u001b[0m\u001b[0;34m\u001b[0m\u001b[0m\n",
            "\u001b[0;32m/usr/lib/python3.8/zipfile.py\u001b[0m in \u001b[0;36m__init__\u001b[0;34m(self, file, mode, compression, allowZip64, compresslevel, strict_timestamps)\u001b[0m\n\u001b[1;32m   1267\u001b[0m         \u001b[0;32mtry\u001b[0m\u001b[0;34m:\u001b[0m\u001b[0;34m\u001b[0m\u001b[0;34m\u001b[0m\u001b[0m\n\u001b[1;32m   1268\u001b[0m             \u001b[0;32mif\u001b[0m \u001b[0mmode\u001b[0m \u001b[0;34m==\u001b[0m \u001b[0;34m'r'\u001b[0m\u001b[0;34m:\u001b[0m\u001b[0;34m\u001b[0m\u001b[0;34m\u001b[0m\u001b[0m\n\u001b[0;32m-> 1269\u001b[0;31m                 \u001b[0mself\u001b[0m\u001b[0;34m.\u001b[0m\u001b[0m_RealGetContents\u001b[0m\u001b[0;34m(\u001b[0m\u001b[0;34m)\u001b[0m\u001b[0;34m\u001b[0m\u001b[0;34m\u001b[0m\u001b[0m\n\u001b[0m\u001b[1;32m   1270\u001b[0m             \u001b[0;32melif\u001b[0m \u001b[0mmode\u001b[0m \u001b[0;32min\u001b[0m \u001b[0;34m(\u001b[0m\u001b[0;34m'w'\u001b[0m\u001b[0;34m,\u001b[0m \u001b[0;34m'x'\u001b[0m\u001b[0;34m)\u001b[0m\u001b[0;34m:\u001b[0m\u001b[0;34m\u001b[0m\u001b[0;34m\u001b[0m\u001b[0m\n\u001b[1;32m   1271\u001b[0m                 \u001b[0;31m# set the modified flag so central directory gets written\u001b[0m\u001b[0;34m\u001b[0m\u001b[0;34m\u001b[0m\u001b[0;34m\u001b[0m\u001b[0m\n",
            "\u001b[0;32m/usr/lib/python3.8/zipfile.py\u001b[0m in \u001b[0;36m_RealGetContents\u001b[0;34m(self)\u001b[0m\n\u001b[1;32m   1334\u001b[0m             \u001b[0;32mraise\u001b[0m \u001b[0mBadZipFile\u001b[0m\u001b[0;34m(\u001b[0m\u001b[0;34m\"File is not a zip file\"\u001b[0m\u001b[0;34m)\u001b[0m\u001b[0;34m\u001b[0m\u001b[0;34m\u001b[0m\u001b[0m\n\u001b[1;32m   1335\u001b[0m         \u001b[0;32mif\u001b[0m \u001b[0;32mnot\u001b[0m \u001b[0mendrec\u001b[0m\u001b[0;34m:\u001b[0m\u001b[0;34m\u001b[0m\u001b[0;34m\u001b[0m\u001b[0m\n\u001b[0;32m-> 1336\u001b[0;31m             \u001b[0;32mraise\u001b[0m \u001b[0mBadZipFile\u001b[0m\u001b[0;34m(\u001b[0m\u001b[0;34m\"File is not a zip file\"\u001b[0m\u001b[0;34m)\u001b[0m\u001b[0;34m\u001b[0m\u001b[0;34m\u001b[0m\u001b[0m\n\u001b[0m\u001b[1;32m   1337\u001b[0m         \u001b[0;32mif\u001b[0m \u001b[0mself\u001b[0m\u001b[0;34m.\u001b[0m\u001b[0mdebug\u001b[0m \u001b[0;34m>\u001b[0m \u001b[0;36m1\u001b[0m\u001b[0;34m:\u001b[0m\u001b[0;34m\u001b[0m\u001b[0;34m\u001b[0m\u001b[0m\n\u001b[1;32m   1338\u001b[0m             \u001b[0mprint\u001b[0m\u001b[0;34m(\u001b[0m\u001b[0mendrec\u001b[0m\u001b[0;34m)\u001b[0m\u001b[0;34m\u001b[0m\u001b[0;34m\u001b[0m\u001b[0m\n",
            "\u001b[0;31mBadZipFile\u001b[0m: File is not a zip file"
          ]
        }
      ],
      "source": [
        "data=pd.read_excel('Modifiez_COLT_Etudiants_Casa_groupe2_2022.xlsx')"
      ]
    },
    {
      "cell_type": "code",
      "execution_count": null,
      "metadata": {
        "id": "YyGeMxRGA_gO",
        "colab": {
          "base_uri": "https://localhost:8080/"
        },
        "outputId": "5d3c153f-5e93-4f3b-b4f4-a709e0d2bdd0"
      },
      "outputs": [
        {
          "output_type": "stream",
          "name": "stdout",
          "text": [
            "<class 'pandas.core.frame.DataFrame'>\n",
            "RangeIndex: 46933 entries, 0 to 46932\n",
            "Data columns (total 43 columns):\n",
            " #   Column                                              Non-Null Count  Dtype         \n",
            "---  ------                                              --------------  -----         \n",
            " 0   Patient                                             46933 non-null  int64         \n",
            " 1   Date Naissance (MM/AAAA)                            46933 non-null  datetime64[ns]\n",
            " 2   Sexe                                                46933 non-null  object        \n",
            " 3   Date des derniers EFR avant greffe                  46550 non-null  object        \n",
            " 4   VEMS en litre                                       44984 non-null  float64       \n",
            " 5   VEMS en % de la théorique                           45848 non-null  float64       \n",
            " 6   CVF en litre                                        43918 non-null  float64       \n",
            " 7   CVF en % de la théorique                            44322 non-null  float64       \n",
            " 8   DLCO en % de la théorique                           18171 non-null  float64       \n",
            " 9   CPT en litre                                        31725 non-null  float64       \n",
            " 10  CPT en % de la théorique                            32296 non-null  float64       \n",
            " 11  VR en litre                                         30736 non-null  float64       \n",
            " 12  VR en % de la théorique                             31825 non-null  float64       \n",
            " 13  DEMM 25/75                                          38940 non-null  float64       \n",
            " 14  Date de greffe                                      46933 non-null  datetime64[ns]\n",
            " 15  Type de la greffe                                   45995 non-null  object        \n",
            " 16  N° visite                                           46727 non-null  float64       \n",
            " 17  Rejet aigu cellulaire                               43899 non-null  object        \n",
            " 18  Rejet aigu cellulaire --> Si oui Date               28276 non-null  object        \n",
            " 19  Rejet médié par anticorps                           43854 non-null  object        \n",
            " 20  Rejet médié par anticorps --> Si oui date           22378 non-null  object        \n",
            " 21  Dysfonction chronique du greffon pulmonaire         18423 non-null  object        \n",
            " 22  Dysfonction chronique --> Si oui, date              30393 non-null  object        \n",
            " 23  Type                                                3539 non-null   object        \n",
            " 24  Dysfonction du greffon répondant à l'azithromycine  16731 non-null  object        \n",
            " 25  CPT en litre.1                                      15340 non-null  float64       \n",
            " 26  CPT en % de la théorique.1                          15483 non-null  float64       \n",
            " 27  VEMS en litre vrai                                  42002 non-null  float64       \n",
            " 28  VEMS en % de la théorique.1                         42105 non-null  float64       \n",
            " 29  CVF en litre.1                                      41600 non-null  float64       \n",
            " 30  CVF en % de la théorique.1                          41424 non-null  float64       \n",
            " 31  DEEM 25/75                                          40501 non-null  float64       \n",
            " 32  Date Examen                                         46387 non-null  object        \n",
            " 33  Date décès                                          11513 non-null  datetime64[ns]\n",
            " 34  Cause principale du décès                           10158 non-null  object        \n",
            " 35  Délai                                               43355 non-null  object        \n",
            " 36  Phénotype                                           43354 non-null  object        \n",
            " 37  Date phenotypage                                    41781 non-null  object        \n",
            " 38  Visite de rejet                                     8093 non-null   object        \n",
            " 39  Date de rejet                                       7857 non-null   object        \n",
            " 40  Mois du rejet                                       3435 non-null   float64       \n",
            " 41  Grade                                               2952 non-null   float64       \n",
            " 42  Commentaires                                        13900 non-null  object        \n",
            "dtypes: datetime64[ns](3), float64(20), int64(1), object(19)\n",
            "memory usage: 15.4+ MB\n"
          ]
        }
      ],
      "source": [
        "data.info() "
      ]
    },
    {
      "cell_type": "code",
      "execution_count": null,
      "metadata": {
        "id": "xWiZuBeUBFWd"
      },
      "outputs": [],
      "source": [
        "data=data[['Patient','Date Naissance (MM/AAAA)','Sexe','Date de greffe','VEMS en litre','VEMS en % de la théorique','Type de la greffe','VEMS en litre vrai','VEMS en % de la théorique.1','Date Examen','Date décès','Phénotype','Date de rejet']]"
      ]
    },
    {
      "cell_type": "code",
      "execution_count": null,
      "metadata": {
        "id": "z4SJDUZuBGV3",
        "colab": {
          "base_uri": "https://localhost:8080/"
        },
        "outputId": "5bda62d2-0a6f-44e7-8a63-695e750c73a9"
      },
      "outputs": [
        {
          "output_type": "stream",
          "name": "stdout",
          "text": [
            "<class 'pandas.core.frame.DataFrame'>\n",
            "RangeIndex: 46933 entries, 0 to 46932\n",
            "Data columns (total 13 columns):\n",
            " #   Column                       Non-Null Count  Dtype         \n",
            "---  ------                       --------------  -----         \n",
            " 0   Patient                      46933 non-null  int64         \n",
            " 1   Date Naissance (MM/AAAA)     46933 non-null  datetime64[ns]\n",
            " 2   Sexe                         46933 non-null  object        \n",
            " 3   Date de greffe               46933 non-null  datetime64[ns]\n",
            " 4   VEMS en litre                44984 non-null  float64       \n",
            " 5   VEMS en % de la théorique    45848 non-null  float64       \n",
            " 6   Type de la greffe            45995 non-null  object        \n",
            " 7   VEMS en litre vrai           42002 non-null  float64       \n",
            " 8   VEMS en % de la théorique.1  42105 non-null  float64       \n",
            " 9   Date Examen                  46387 non-null  object        \n",
            " 10  Date décès                   11513 non-null  datetime64[ns]\n",
            " 11  Phénotype                    43354 non-null  object        \n",
            " 12  Date de rejet                7857 non-null   object        \n",
            "dtypes: datetime64[ns](3), float64(4), int64(1), object(5)\n",
            "memory usage: 4.7+ MB\n"
          ]
        }
      ],
      "source": [
        "data.info() "
      ]
    },
    {
      "cell_type": "code",
      "source": [],
      "metadata": {
        "id": "eHZFUxNn0L7d"
      },
      "execution_count": null,
      "outputs": []
    },
    {
      "cell_type": "markdown",
      "metadata": {
        "id": "vGBftg2jBMuQ"
      },
      "source": [
        "**On sélectionne maintenant les lignes nécessaires**\n"
      ]
    },
    {
      "cell_type": "code",
      "execution_count": null,
      "metadata": {
        "id": "Wb38jxlLBJMh"
      },
      "outputs": [],
      "source": [
        "#supprimer les patients de phénotype autre que BOS;RAS;ARAD\n",
        "a_supprimer=[]\n",
        "for i in range(data.shape[0]):\n",
        "    if data.iloc[i,11]!='BOS' and data.iloc[i,11]!='RAS' and data.iloc[i,11]!='ARAD':\n",
        "        a_supprimer.append(i)\n",
        "    if type(data.iloc[i,12])!=datetime.datetime:\n",
        "      if i not in a_supprimer:\n",
        "        a_supprimer.append(i)\n",
        "    if type(data.iloc[i,9])!=datetime.datetime or i==5955:\n",
        "      if i not in a_supprimer:\n",
        "        a_supprimer.append(i)\n",
        "data=data.drop(a_supprimer,axis=0)"
      ]
    },
    {
      "cell_type": "code",
      "execution_count": null,
      "metadata": {
        "id": "oB5XVEnsBb5n",
        "colab": {
          "base_uri": "https://localhost:8080/"
        },
        "outputId": "00e8583c-396f-4c37-9057-46bcef674582"
      },
      "outputs": [
        {
          "output_type": "stream",
          "name": "stdout",
          "text": [
            "<class 'pandas.core.frame.DataFrame'>\n",
            "Int64Index: 6836 entries, 0 to 46887\n",
            "Data columns (total 13 columns):\n",
            " #   Column                       Non-Null Count  Dtype         \n",
            "---  ------                       --------------  -----         \n",
            " 0   Patient                      6836 non-null   int64         \n",
            " 1   Date Naissance (MM/AAAA)     6836 non-null   datetime64[ns]\n",
            " 2   Sexe                         6836 non-null   object        \n",
            " 3   Date de greffe               6836 non-null   datetime64[ns]\n",
            " 4   VEMS en litre                6374 non-null   float64       \n",
            " 5   VEMS en % de la théorique    6678 non-null   float64       \n",
            " 6   Type de la greffe            6672 non-null   object        \n",
            " 7   VEMS en litre vrai           6747 non-null   float64       \n",
            " 8   VEMS en % de la théorique.1  6805 non-null   float64       \n",
            " 9   Date Examen                  6836 non-null   object        \n",
            " 10  Date décès                   3228 non-null   datetime64[ns]\n",
            " 11  Phénotype                    6836 non-null   object        \n",
            " 12  Date de rejet                6836 non-null   object        \n",
            "dtypes: datetime64[ns](3), float64(4), int64(1), object(5)\n",
            "memory usage: 747.7+ KB\n"
          ]
        }
      ],
      "source": [
        "data.info() "
      ]
    },
    {
      "cell_type": "markdown",
      "metadata": {
        "id": "su67Z0PwBe5C"
      },
      "source": [
        "**On vérifie que la sélection a été bien faite**"
      ]
    },
    {
      "cell_type": "code",
      "execution_count": null,
      "metadata": {
        "id": "DAqAmCN7Bih7",
        "colab": {
          "base_uri": "https://localhost:8080/"
        },
        "outputId": "b29a80b3-b18a-459f-f507-ea7f1026e9f2"
      },
      "outputs": [
        {
          "output_type": "execute_result",
          "data": {
            "text/plain": [
              "array(['BOS', 'RAS', 'ARAD'], dtype=object)"
            ]
          },
          "metadata": {},
          "execution_count": 187
        }
      ],
      "source": [
        "data['Phénotype'].unique()"
      ]
    },
    {
      "cell_type": "code",
      "execution_count": null,
      "metadata": {
        "id": "vOCKmOIvBlKm",
        "colab": {
          "base_uri": "https://localhost:8080/"
        },
        "outputId": "27408c40-85cc-4cb8-b9e9-39805c847a86"
      },
      "outputs": [
        {
          "output_type": "stream",
          "name": "stdout",
          "text": [
            "<class 'pandas.core.frame.DataFrame'>\n",
            "Int64Index: 6836 entries, 0 to 46887\n",
            "Data columns (total 13 columns):\n",
            " #   Column                       Non-Null Count  Dtype         \n",
            "---  ------                       --------------  -----         \n",
            " 0   Patient                      6836 non-null   int64         \n",
            " 1   Date Naissance (MM/AAAA)     6836 non-null   datetime64[ns]\n",
            " 2   Sexe                         6836 non-null   object        \n",
            " 3   Date de greffe               6836 non-null   datetime64[ns]\n",
            " 4   VEMS en litre                6374 non-null   float64       \n",
            " 5   VEMS en % de la théorique    6678 non-null   float64       \n",
            " 6   Type de la greffe            6672 non-null   object        \n",
            " 7   VEMS en litre vrai           6747 non-null   float64       \n",
            " 8   VEMS en % de la théorique.1  6805 non-null   float64       \n",
            " 9   Date Examen                  6836 non-null   object        \n",
            " 10  Date décès                   3228 non-null   datetime64[ns]\n",
            " 11  Phénotype                    6836 non-null   object        \n",
            " 12  Date de rejet                6836 non-null   object        \n",
            "dtypes: datetime64[ns](3), float64(4), int64(1), object(5)\n",
            "memory usage: 747.7+ KB\n"
          ]
        }
      ],
      "source": [
        "data.info()"
      ]
    },
    {
      "cell_type": "markdown",
      "metadata": {
        "id": "_JtHPnnlBqSC"
      },
      "source": [
        "**On ajoute les colonnes nécessaires avec des valeurs initialisées à 0**"
      ]
    },
    {
      "cell_type": "code",
      "execution_count": null,
      "metadata": {
        "id": "C7FxDgXFBsO1"
      },
      "outputs": [],
      "source": [
        "\n",
        "data=data.assign(âge_lors_de_la_greffe=0)\n",
        "data=data.assign(âge_lors_de_l_examen=0)\n",
        "data=data.assign(âge_lors_du_décès=0)\n",
        "data=data.assign(âge_lors_du_rejet=0)\n",
        "data=data.assign(durée_de_vie_après_greffe=0)"
      ]
    },
    {
      "cell_type": "code",
      "execution_count": null,
      "metadata": {
        "id": "8khtrJHdBxnp",
        "colab": {
          "base_uri": "https://localhost:8080/"
        },
        "outputId": "10a18c0b-c61f-4577-db75-ee217fa6641c"
      },
      "outputs": [
        {
          "output_type": "execute_result",
          "data": {
            "text/plain": [
              "Patient                           0\n",
              "Date Naissance (MM/AAAA)          0\n",
              "Sexe                              0\n",
              "Date de greffe                    0\n",
              "VEMS en litre                   462\n",
              "VEMS en % de la théorique       158\n",
              "Type de la greffe               164\n",
              "VEMS en litre vrai               89\n",
              "VEMS en % de la théorique.1      31\n",
              "Date Examen                       0\n",
              "Date décès                     3608\n",
              "Phénotype                         0\n",
              "Date de rejet                     0\n",
              "âge_lors_de_la_greffe             0\n",
              "âge_lors_de_l_examen              0\n",
              "âge_lors_du_décès                 0\n",
              "âge_lors_du_rejet                 0\n",
              "durée_de_vie_après_greffe         0\n",
              "dtype: int64"
            ]
          },
          "metadata": {},
          "execution_count": 190
        }
      ],
      "source": [
        "data.isnull().sum()"
      ]
    },
    {
      "cell_type": "code",
      "execution_count": null,
      "metadata": {
        "id": "yPeFsdUPByca",
        "colab": {
          "base_uri": "https://localhost:8080/"
        },
        "outputId": "50b80335-9067-4520-dc39-7c6070aa9b46"
      },
      "outputs": [
        {
          "output_type": "stream",
          "name": "stdout",
          "text": [
            "<class 'pandas.core.frame.DataFrame'>\n",
            "Int64Index: 6836 entries, 0 to 46887\n",
            "Data columns (total 18 columns):\n",
            " #   Column                       Non-Null Count  Dtype         \n",
            "---  ------                       --------------  -----         \n",
            " 0   Patient                      6836 non-null   int64         \n",
            " 1   Date Naissance (MM/AAAA)     6836 non-null   datetime64[ns]\n",
            " 2   Sexe                         6836 non-null   object        \n",
            " 3   Date de greffe               6836 non-null   datetime64[ns]\n",
            " 4   VEMS en litre                6374 non-null   float64       \n",
            " 5   VEMS en % de la théorique    6678 non-null   float64       \n",
            " 6   Type de la greffe            6672 non-null   object        \n",
            " 7   VEMS en litre vrai           6747 non-null   float64       \n",
            " 8   VEMS en % de la théorique.1  6805 non-null   float64       \n",
            " 9   Date Examen                  6836 non-null   object        \n",
            " 10  Date décès                   3228 non-null   datetime64[ns]\n",
            " 11  Phénotype                    6836 non-null   object        \n",
            " 12  Date de rejet                6836 non-null   object        \n",
            " 13  âge_lors_de_la_greffe        6836 non-null   int64         \n",
            " 14  âge_lors_de_l_examen         6836 non-null   int64         \n",
            " 15  âge_lors_du_décès            6836 non-null   int64         \n",
            " 16  âge_lors_du_rejet            6836 non-null   int64         \n",
            " 17  durée_de_vie_après_greffe    6836 non-null   int64         \n",
            "dtypes: datetime64[ns](3), float64(4), int64(6), object(5)\n",
            "memory usage: 1014.7+ KB\n"
          ]
        }
      ],
      "source": [
        "data.info()"
      ]
    },
    {
      "cell_type": "markdown",
      "metadata": {
        "id": "fn0UklLRB6sd"
      },
      "source": [
        "**Remplissage des colonnes âges**"
      ]
    },
    {
      "cell_type": "code",
      "source": [],
      "metadata": {
        "id": "oELpRwjSDpAZ"
      },
      "execution_count": null,
      "outputs": []
    },
    {
      "cell_type": "code",
      "source": [],
      "metadata": {
        "id": "1GhbsSi2_DK2"
      },
      "execution_count": null,
      "outputs": []
    },
    {
      "cell_type": "code",
      "execution_count": null,
      "metadata": {
        "id": "VMF5EV_bB-2S",
        "colab": {
          "base_uri": "https://localhost:8080/"
        },
        "outputId": "60f0d516-e2cc-48af-87aa-4b993e5fd0c8"
      },
      "outputs": [
        {
          "output_type": "stream",
          "name": "stdout",
          "text": [
            "<class 'pandas.core.frame.DataFrame'>\n",
            "Int64Index: 6836 entries, 0 to 46887\n",
            "Data columns (total 18 columns):\n",
            " #   Column                       Non-Null Count  Dtype         \n",
            "---  ------                       --------------  -----         \n",
            " 0   Patient                      6836 non-null   int64         \n",
            " 1   Date Naissance (MM/AAAA)     6836 non-null   datetime64[ns]\n",
            " 2   Sexe                         6836 non-null   object        \n",
            " 3   Date de greffe               6836 non-null   datetime64[ns]\n",
            " 4   VEMS en litre                6374 non-null   float64       \n",
            " 5   VEMS en % de la théorique    6678 non-null   float64       \n",
            " 6   Type de la greffe            6672 non-null   object        \n",
            " 7   VEMS en litre vrai           6747 non-null   float64       \n",
            " 8   VEMS en % de la théorique.1  6805 non-null   float64       \n",
            " 9   Date Examen                  6836 non-null   object        \n",
            " 10  Date décès                   3228 non-null   datetime64[ns]\n",
            " 11  Phénotype                    6836 non-null   object        \n",
            " 12  Date de rejet                6836 non-null   object        \n",
            " 13  âge_lors_de_la_greffe        6836 non-null   int64         \n",
            " 14  âge_lors_de_l_examen         6836 non-null   int64         \n",
            " 15  âge_lors_du_décès            6836 non-null   int64         \n",
            " 16  âge_lors_du_rejet            6836 non-null   int64         \n",
            " 17  durée_de_vie_après_greffe    6836 non-null   int64         \n",
            "dtypes: datetime64[ns](3), float64(4), int64(6), object(5)\n",
            "memory usage: 1014.7+ KB\n"
          ]
        }
      ],
      "source": [
        "data.info()"
      ]
    },
    {
      "cell_type": "code",
      "execution_count": null,
      "metadata": {
        "id": "X7mIRUxjCBix"
      },
      "outputs": [],
      "source": [
        "data['Date de rejet']=pd.to_datetime(data['Date de rejet'])\n",
        "data['Date Examen']=pd.to_datetime(data['Date Examen'])"
      ]
    },
    {
      "cell_type": "code",
      "execution_count": null,
      "metadata": {
        "id": "yjzDD92-CEfe",
        "colab": {
          "base_uri": "https://localhost:8080/"
        },
        "outputId": "18a7f954-b388-4b1f-bc69-818576e89734"
      },
      "outputs": [
        {
          "output_type": "stream",
          "name": "stdout",
          "text": [
            "<class 'pandas.core.frame.DataFrame'>\n",
            "Int64Index: 6836 entries, 0 to 46887\n",
            "Data columns (total 18 columns):\n",
            " #   Column                       Non-Null Count  Dtype         \n",
            "---  ------                       --------------  -----         \n",
            " 0   Patient                      6836 non-null   int64         \n",
            " 1   Date Naissance (MM/AAAA)     6836 non-null   datetime64[ns]\n",
            " 2   Sexe                         6836 non-null   object        \n",
            " 3   Date de greffe               6836 non-null   datetime64[ns]\n",
            " 4   VEMS en litre                6374 non-null   float64       \n",
            " 5   VEMS en % de la théorique    6678 non-null   float64       \n",
            " 6   Type de la greffe            6672 non-null   object        \n",
            " 7   VEMS en litre vrai           6747 non-null   float64       \n",
            " 8   VEMS en % de la théorique.1  6805 non-null   float64       \n",
            " 9   Date Examen                  6836 non-null   datetime64[ns]\n",
            " 10  Date décès                   3228 non-null   datetime64[ns]\n",
            " 11  Phénotype                    6836 non-null   object        \n",
            " 12  Date de rejet                6836 non-null   datetime64[ns]\n",
            " 13  âge_lors_de_la_greffe        6836 non-null   int64         \n",
            " 14  âge_lors_de_l_examen         6836 non-null   int64         \n",
            " 15  âge_lors_du_décès            6836 non-null   int64         \n",
            " 16  âge_lors_du_rejet            6836 non-null   int64         \n",
            " 17  durée_de_vie_après_greffe    6836 non-null   int64         \n",
            "dtypes: datetime64[ns](5), float64(4), int64(6), object(3)\n",
            "memory usage: 1014.7+ KB\n"
          ]
        }
      ],
      "source": [
        "data.info()"
      ]
    },
    {
      "cell_type": "code",
      "execution_count": null,
      "metadata": {
        "id": "Q6MJNQNVCGuh"
      },
      "outputs": [],
      "source": [
        "for i in range(data.shape[0]):\n",
        "    data.iloc[i,13]=data.iloc[i,3].year-data.iloc[i,1].year\n",
        "    data.iloc[i,14]=data.iloc[i,9].year-data.iloc[i,1].year\n",
        "    data.iloc[i,15]=data.iloc[i,10].year-data.iloc[i,1].year\n",
        "    data.iloc[i,16]=data.iloc[i,12].year-data.iloc[i,1].year\n",
        "    data.iloc[i,17]=data.iloc[i,10].year-data.iloc[i,3].year"
      ]
    },
    {
      "cell_type": "code",
      "execution_count": null,
      "metadata": {
        "id": "tprN_FkCCJHa",
        "colab": {
          "base_uri": "https://localhost:8080/"
        },
        "outputId": "62b986d4-4a24-476c-fef9-dc463ddc649a"
      },
      "outputs": [
        {
          "output_type": "stream",
          "name": "stdout",
          "text": [
            "<class 'pandas.core.frame.DataFrame'>\n",
            "Int64Index: 6836 entries, 0 to 46887\n",
            "Data columns (total 18 columns):\n",
            " #   Column                       Non-Null Count  Dtype         \n",
            "---  ------                       --------------  -----         \n",
            " 0   Patient                      6836 non-null   int64         \n",
            " 1   Date Naissance (MM/AAAA)     6836 non-null   datetime64[ns]\n",
            " 2   Sexe                         6836 non-null   object        \n",
            " 3   Date de greffe               6836 non-null   datetime64[ns]\n",
            " 4   VEMS en litre                6374 non-null   float64       \n",
            " 5   VEMS en % de la théorique    6678 non-null   float64       \n",
            " 6   Type de la greffe            6672 non-null   object        \n",
            " 7   VEMS en litre vrai           6747 non-null   float64       \n",
            " 8   VEMS en % de la théorique.1  6805 non-null   float64       \n",
            " 9   Date Examen                  6836 non-null   datetime64[ns]\n",
            " 10  Date décès                   3228 non-null   datetime64[ns]\n",
            " 11  Phénotype                    6836 non-null   object        \n",
            " 12  Date de rejet                6836 non-null   datetime64[ns]\n",
            " 13  âge_lors_de_la_greffe        6836 non-null   int64         \n",
            " 14  âge_lors_de_l_examen         6836 non-null   int64         \n",
            " 15  âge_lors_du_décès            3228 non-null   float64       \n",
            " 16  âge_lors_du_rejet            6836 non-null   int64         \n",
            " 17  durée_de_vie_après_greffe    3228 non-null   float64       \n",
            "dtypes: datetime64[ns](5), float64(6), int64(4), object(3)\n",
            "memory usage: 1014.7+ KB\n"
          ]
        }
      ],
      "source": [
        "data.info()"
      ]
    },
    {
      "cell_type": "code",
      "source": [
        "for i in range(data.shape[0]):\n",
        "  if data.iloc[i,14]==256:\n",
        "    print(i,data.iloc[i,14])"
      ],
      "metadata": {
        "colab": {
          "base_uri": "https://localhost:8080/"
        },
        "id": "kM8WhTF7Ir4k",
        "outputId": "03afede1-b07f-4743-c9e4-2849039823ba"
      },
      "execution_count": null,
      "outputs": [
        {
          "output_type": "stream",
          "name": "stdout",
          "text": [
            "6604 256\n"
          ]
        }
      ]
    },
    {
      "cell_type": "code",
      "source": [],
      "metadata": {
        "id": "VhAOOEJW19cA"
      },
      "execution_count": null,
      "outputs": []
    },
    {
      "cell_type": "code",
      "source": [
        "print(data.iloc[6604,9])"
      ],
      "metadata": {
        "colab": {
          "base_uri": "https://localhost:8080/"
        },
        "id": "Jnqpaw2XJVye",
        "outputId": "486e73e1-3ff9-4b11-de2e-8b3cd21b6b0f"
      },
      "execution_count": null,
      "outputs": [
        {
          "output_type": "stream",
          "name": "stdout",
          "text": [
            "2201-10-02 00:00:00\n"
          ]
        }
      ]
    },
    {
      "cell_type": "code",
      "execution_count": null,
      "metadata": {
        "id": "tMGcQ6YdCMkW",
        "colab": {
          "base_uri": "https://localhost:8080/"
        },
        "outputId": "a6b6c30e-5d10-4928-bd92-e9a9a661ac63"
      },
      "outputs": [
        {
          "output_type": "execute_result",
          "data": {
            "text/plain": [
              "(array([34, 26, 48, 58, 51, 33, 25, 17, 53, 20, 56, 21, 36, 65, 61, 42, 52,\n",
              "        57, 28, 55, 59, 46, 16, 63, 29, 23, 39, 66, 27, 60, 50, 64, 30, 19,\n",
              "        22, 47, 41, 68, 62, 45, 31, 15, 32, 38, 49, 24, 40, 44, 37, 43, 67,\n",
              "        54, 35, 12, 14]),\n",
              " array([ 34,  26,  48,  58,  51,  35,  27,  25,  18,  53,  21,  57,  22,\n",
              "         37,  65,  61,  49,  44,  52,  59,  29,  56,  60,  47,  16,  63,\n",
              "         30,  23,  39,  77,  66,  28,  50,  31,  20,  32,  40,  62,  64,\n",
              "         55,  41,  42,  43,  19,  24,  68,  46,  67,  33,  38,  45,  70,\n",
              "         69,  54,  36,  12,  15,  14,  72,  71,  75,  76,  17,  73,  74,\n",
              "         13, 256]),\n",
              " array([nan, 57., 66., 24., 23., 59., 53., 36., 64., 22., 58., 51., 62.,\n",
              "        25., 68., 41., 76., 30., 67., 63., 42., 28., 60., 44., 61., 73.,\n",
              "        55., 65., 40., 54., 35., 20., 27., 46., 69., 33., 70., 29., 48.,\n",
              "        52., 72., 39., 50., 38., 56., 37., 34., 15., 31.]),\n",
              " array([36, 28, 52, 59, 32, 26, 19, 56, 22, 58, 25, 40, 71, 62, 30, 45, 61,\n",
              "        18, 49, 60, 57, 17, 68, 29, 65, 53, 66, 37, 20, 23, 70, 64, 31, 41,\n",
              "        50, 43, 34, 21, 67, 54, 46, 33, 51, 27, 63, 48, 55, 38, 24, 14, 47,\n",
              "        69, 44, 39, 15]),\n",
              " array([nan,  9.,  8.,  6.,  7.,  3.,  5., 11.,  2.,  4., 10.,  1.,  0.]))"
            ]
          },
          "metadata": {},
          "execution_count": 199
        }
      ],
      "source": [
        "data['âge_lors_de_la_greffe'].unique(),data['âge_lors_de_l_examen'].unique(),data['âge_lors_du_décès'].unique(),data['âge_lors_du_rejet'].unique(),data['durée_de_vie_après_greffe'].unique()"
      ]
    },
    {
      "cell_type": "markdown",
      "metadata": {
        "id": "-KZdC_H6CZVu"
      },
      "source": [
        "**il reste un petit problème avec la colonne \"âge_lors_de_l_examen\"**"
      ]
    },
    {
      "cell_type": "markdown",
      "metadata": {
        "id": "2x3a4DdBCeBv"
      },
      "source": [
        "**Dataset en fin prétraitement :**"
      ]
    },
    {
      "cell_type": "code",
      "source": [
        "data.isnull().sum()"
      ],
      "metadata": {
        "colab": {
          "base_uri": "https://localhost:8080/"
        },
        "id": "bYKrjZ9e9ccw",
        "outputId": "65a4f1f9-50da-477a-986d-190a7551decf"
      },
      "execution_count": null,
      "outputs": [
        {
          "output_type": "execute_result",
          "data": {
            "text/plain": [
              "Patient                           0\n",
              "Date Naissance (MM/AAAA)          0\n",
              "Sexe                              0\n",
              "Date de greffe                    0\n",
              "VEMS en litre                   462\n",
              "VEMS en % de la théorique       158\n",
              "Type de la greffe               164\n",
              "VEMS en litre vrai               89\n",
              "VEMS en % de la théorique.1      31\n",
              "Date Examen                       0\n",
              "Date décès                     3608\n",
              "Phénotype                         0\n",
              "Date de rejet                     0\n",
              "âge_lors_de_la_greffe             0\n",
              "âge_lors_de_l_examen              0\n",
              "âge_lors_du_décès              3608\n",
              "âge_lors_du_rejet                 0\n",
              "durée_de_vie_après_greffe      3608\n",
              "dtype: int64"
            ]
          },
          "metadata": {},
          "execution_count": 200
        }
      ]
    },
    {
      "cell_type": "code",
      "execution_count": null,
      "metadata": {
        "id": "t_Z5h7UrCUV4",
        "colab": {
          "base_uri": "https://localhost:8080/",
          "height": 653
        },
        "outputId": "094b6979-3a64-40e6-f9ff-178abc8b9593"
      },
      "outputs": [
        {
          "output_type": "execute_result",
          "data": {
            "text/plain": [
              "    Patient Date Naissance (MM/AAAA)      Sexe Date de greffe  VEMS en litre  \\\n",
              "0        34               1975-04-01   Féminin     2009-10-14           2.23   \n",
              "3       145               1984-03-01   Féminin     2010-03-24           0.79   \n",
              "15      223               1962-12-01   Féminin     2010-06-03           0.50   \n",
              "17      174               1952-08-01  Masculin     2010-07-21           0.56   \n",
              "23      293               1959-01-01  Masculin     2010-01-09           0.54   \n",
              "26       34               1975-04-01   Féminin     2009-10-14           2.23   \n",
              "39      174               1952-08-01  Masculin     2010-07-21           0.56   \n",
              "40      131               1984-12-01  Masculin     2010-07-28           1.05   \n",
              "41      131               1984-12-01  Masculin     2010-07-28           1.05   \n",
              "43      132               1977-02-01   Féminin     2010-02-17           0.72   \n",
              "\n",
              "    VEMS en % de la théorique Type de la greffe  VEMS en litre vrai  \\\n",
              "0                       84.52     bi-pulmonaire                2.13   \n",
              "3                       29.00     bi-pulmonaire                1.30   \n",
              "15                      20.00     bi-pulmonaire                1.79   \n",
              "17                      20.00     bi-pulmonaire                1.91   \n",
              "23                      17.00     bi-pulmonaire                1.88   \n",
              "26                      84.52     bi-pulmonaire                2.00   \n",
              "39                      20.00     bi-pulmonaire                1.95   \n",
              "40                      23.00     bi-pulmonaire                4.60   \n",
              "41                      23.00     bi-pulmonaire                4.65   \n",
              "43                      27.00               NaN                1.10   \n",
              "\n",
              "    VEMS en % de la théorique.1 Date Examen Date décès Phénotype  \\\n",
              "0                          81.0  2009-11-27        NaT       BOS   \n",
              "3                          47.0  2010-04-26        NaT       BOS   \n",
              "15                         73.0  2010-07-13 2019-02-13       BOS   \n",
              "17                         70.0  2010-08-12 2018-10-31       BOS   \n",
              "23                         60.0  2010-03-15 2016-07-25       RAS   \n",
              "26                         82.1  2010-04-12        NaT       BOS   \n",
              "39                         72.0  2010-11-29 2018-10-31       BOS   \n",
              "40                         98.0  2010-11-02        NaT       BOS   \n",
              "41                        100.0  2011-01-26        NaT       BOS   \n",
              "43                         42.0  2011-02-14        NaT       BOS   \n",
              "\n",
              "   Date de rejet  âge_lors_de_la_greffe  âge_lors_de_l_examen  \\\n",
              "0     2011-10-20                     34                    34   \n",
              "3     2012-02-01                     26                    26   \n",
              "15    2014-04-01                     48                    48   \n",
              "17    2011-12-15                     58                    58   \n",
              "23    2011-01-03                     51                    51   \n",
              "26    2011-10-20                     34                    35   \n",
              "39    2011-12-15                     58                    58   \n",
              "40    2016-12-27                     26                    26   \n",
              "41    2016-12-27                     26                    27   \n",
              "43    2013-08-19                     33                    34   \n",
              "\n",
              "    âge_lors_du_décès  âge_lors_du_rejet  durée_de_vie_après_greffe  \n",
              "0                 NaN                 36                        NaN  \n",
              "3                 NaN                 28                        NaN  \n",
              "15               57.0                 52                        9.0  \n",
              "17               66.0                 59                        8.0  \n",
              "23               57.0                 52                        6.0  \n",
              "26                NaN                 36                        NaN  \n",
              "39               66.0                 59                        8.0  \n",
              "40                NaN                 32                        NaN  \n",
              "41                NaN                 32                        NaN  \n",
              "43                NaN                 36                        NaN  "
            ],
            "text/html": [
              "\n",
              "  <div id=\"df-e89a65dd-10bc-4a82-95d3-636f2574b559\">\n",
              "    <div class=\"colab-df-container\">\n",
              "      <div>\n",
              "<style scoped>\n",
              "    .dataframe tbody tr th:only-of-type {\n",
              "        vertical-align: middle;\n",
              "    }\n",
              "\n",
              "    .dataframe tbody tr th {\n",
              "        vertical-align: top;\n",
              "    }\n",
              "\n",
              "    .dataframe thead th {\n",
              "        text-align: right;\n",
              "    }\n",
              "</style>\n",
              "<table border=\"1\" class=\"dataframe\">\n",
              "  <thead>\n",
              "    <tr style=\"text-align: right;\">\n",
              "      <th></th>\n",
              "      <th>Patient</th>\n",
              "      <th>Date Naissance (MM/AAAA)</th>\n",
              "      <th>Sexe</th>\n",
              "      <th>Date de greffe</th>\n",
              "      <th>VEMS en litre</th>\n",
              "      <th>VEMS en % de la théorique</th>\n",
              "      <th>Type de la greffe</th>\n",
              "      <th>VEMS en litre vrai</th>\n",
              "      <th>VEMS en % de la théorique.1</th>\n",
              "      <th>Date Examen</th>\n",
              "      <th>Date décès</th>\n",
              "      <th>Phénotype</th>\n",
              "      <th>Date de rejet</th>\n",
              "      <th>âge_lors_de_la_greffe</th>\n",
              "      <th>âge_lors_de_l_examen</th>\n",
              "      <th>âge_lors_du_décès</th>\n",
              "      <th>âge_lors_du_rejet</th>\n",
              "      <th>durée_de_vie_après_greffe</th>\n",
              "    </tr>\n",
              "  </thead>\n",
              "  <tbody>\n",
              "    <tr>\n",
              "      <th>0</th>\n",
              "      <td>34</td>\n",
              "      <td>1975-04-01</td>\n",
              "      <td>Féminin</td>\n",
              "      <td>2009-10-14</td>\n",
              "      <td>2.23</td>\n",
              "      <td>84.52</td>\n",
              "      <td>bi-pulmonaire</td>\n",
              "      <td>2.13</td>\n",
              "      <td>81.0</td>\n",
              "      <td>2009-11-27</td>\n",
              "      <td>NaT</td>\n",
              "      <td>BOS</td>\n",
              "      <td>2011-10-20</td>\n",
              "      <td>34</td>\n",
              "      <td>34</td>\n",
              "      <td>NaN</td>\n",
              "      <td>36</td>\n",
              "      <td>NaN</td>\n",
              "    </tr>\n",
              "    <tr>\n",
              "      <th>3</th>\n",
              "      <td>145</td>\n",
              "      <td>1984-03-01</td>\n",
              "      <td>Féminin</td>\n",
              "      <td>2010-03-24</td>\n",
              "      <td>0.79</td>\n",
              "      <td>29.00</td>\n",
              "      <td>bi-pulmonaire</td>\n",
              "      <td>1.30</td>\n",
              "      <td>47.0</td>\n",
              "      <td>2010-04-26</td>\n",
              "      <td>NaT</td>\n",
              "      <td>BOS</td>\n",
              "      <td>2012-02-01</td>\n",
              "      <td>26</td>\n",
              "      <td>26</td>\n",
              "      <td>NaN</td>\n",
              "      <td>28</td>\n",
              "      <td>NaN</td>\n",
              "    </tr>\n",
              "    <tr>\n",
              "      <th>15</th>\n",
              "      <td>223</td>\n",
              "      <td>1962-12-01</td>\n",
              "      <td>Féminin</td>\n",
              "      <td>2010-06-03</td>\n",
              "      <td>0.50</td>\n",
              "      <td>20.00</td>\n",
              "      <td>bi-pulmonaire</td>\n",
              "      <td>1.79</td>\n",
              "      <td>73.0</td>\n",
              "      <td>2010-07-13</td>\n",
              "      <td>2019-02-13</td>\n",
              "      <td>BOS</td>\n",
              "      <td>2014-04-01</td>\n",
              "      <td>48</td>\n",
              "      <td>48</td>\n",
              "      <td>57.0</td>\n",
              "      <td>52</td>\n",
              "      <td>9.0</td>\n",
              "    </tr>\n",
              "    <tr>\n",
              "      <th>17</th>\n",
              "      <td>174</td>\n",
              "      <td>1952-08-01</td>\n",
              "      <td>Masculin</td>\n",
              "      <td>2010-07-21</td>\n",
              "      <td>0.56</td>\n",
              "      <td>20.00</td>\n",
              "      <td>bi-pulmonaire</td>\n",
              "      <td>1.91</td>\n",
              "      <td>70.0</td>\n",
              "      <td>2010-08-12</td>\n",
              "      <td>2018-10-31</td>\n",
              "      <td>BOS</td>\n",
              "      <td>2011-12-15</td>\n",
              "      <td>58</td>\n",
              "      <td>58</td>\n",
              "      <td>66.0</td>\n",
              "      <td>59</td>\n",
              "      <td>8.0</td>\n",
              "    </tr>\n",
              "    <tr>\n",
              "      <th>23</th>\n",
              "      <td>293</td>\n",
              "      <td>1959-01-01</td>\n",
              "      <td>Masculin</td>\n",
              "      <td>2010-01-09</td>\n",
              "      <td>0.54</td>\n",
              "      <td>17.00</td>\n",
              "      <td>bi-pulmonaire</td>\n",
              "      <td>1.88</td>\n",
              "      <td>60.0</td>\n",
              "      <td>2010-03-15</td>\n",
              "      <td>2016-07-25</td>\n",
              "      <td>RAS</td>\n",
              "      <td>2011-01-03</td>\n",
              "      <td>51</td>\n",
              "      <td>51</td>\n",
              "      <td>57.0</td>\n",
              "      <td>52</td>\n",
              "      <td>6.0</td>\n",
              "    </tr>\n",
              "    <tr>\n",
              "      <th>26</th>\n",
              "      <td>34</td>\n",
              "      <td>1975-04-01</td>\n",
              "      <td>Féminin</td>\n",
              "      <td>2009-10-14</td>\n",
              "      <td>2.23</td>\n",
              "      <td>84.52</td>\n",
              "      <td>bi-pulmonaire</td>\n",
              "      <td>2.00</td>\n",
              "      <td>82.1</td>\n",
              "      <td>2010-04-12</td>\n",
              "      <td>NaT</td>\n",
              "      <td>BOS</td>\n",
              "      <td>2011-10-20</td>\n",
              "      <td>34</td>\n",
              "      <td>35</td>\n",
              "      <td>NaN</td>\n",
              "      <td>36</td>\n",
              "      <td>NaN</td>\n",
              "    </tr>\n",
              "    <tr>\n",
              "      <th>39</th>\n",
              "      <td>174</td>\n",
              "      <td>1952-08-01</td>\n",
              "      <td>Masculin</td>\n",
              "      <td>2010-07-21</td>\n",
              "      <td>0.56</td>\n",
              "      <td>20.00</td>\n",
              "      <td>bi-pulmonaire</td>\n",
              "      <td>1.95</td>\n",
              "      <td>72.0</td>\n",
              "      <td>2010-11-29</td>\n",
              "      <td>2018-10-31</td>\n",
              "      <td>BOS</td>\n",
              "      <td>2011-12-15</td>\n",
              "      <td>58</td>\n",
              "      <td>58</td>\n",
              "      <td>66.0</td>\n",
              "      <td>59</td>\n",
              "      <td>8.0</td>\n",
              "    </tr>\n",
              "    <tr>\n",
              "      <th>40</th>\n",
              "      <td>131</td>\n",
              "      <td>1984-12-01</td>\n",
              "      <td>Masculin</td>\n",
              "      <td>2010-07-28</td>\n",
              "      <td>1.05</td>\n",
              "      <td>23.00</td>\n",
              "      <td>bi-pulmonaire</td>\n",
              "      <td>4.60</td>\n",
              "      <td>98.0</td>\n",
              "      <td>2010-11-02</td>\n",
              "      <td>NaT</td>\n",
              "      <td>BOS</td>\n",
              "      <td>2016-12-27</td>\n",
              "      <td>26</td>\n",
              "      <td>26</td>\n",
              "      <td>NaN</td>\n",
              "      <td>32</td>\n",
              "      <td>NaN</td>\n",
              "    </tr>\n",
              "    <tr>\n",
              "      <th>41</th>\n",
              "      <td>131</td>\n",
              "      <td>1984-12-01</td>\n",
              "      <td>Masculin</td>\n",
              "      <td>2010-07-28</td>\n",
              "      <td>1.05</td>\n",
              "      <td>23.00</td>\n",
              "      <td>bi-pulmonaire</td>\n",
              "      <td>4.65</td>\n",
              "      <td>100.0</td>\n",
              "      <td>2011-01-26</td>\n",
              "      <td>NaT</td>\n",
              "      <td>BOS</td>\n",
              "      <td>2016-12-27</td>\n",
              "      <td>26</td>\n",
              "      <td>27</td>\n",
              "      <td>NaN</td>\n",
              "      <td>32</td>\n",
              "      <td>NaN</td>\n",
              "    </tr>\n",
              "    <tr>\n",
              "      <th>43</th>\n",
              "      <td>132</td>\n",
              "      <td>1977-02-01</td>\n",
              "      <td>Féminin</td>\n",
              "      <td>2010-02-17</td>\n",
              "      <td>0.72</td>\n",
              "      <td>27.00</td>\n",
              "      <td>NaN</td>\n",
              "      <td>1.10</td>\n",
              "      <td>42.0</td>\n",
              "      <td>2011-02-14</td>\n",
              "      <td>NaT</td>\n",
              "      <td>BOS</td>\n",
              "      <td>2013-08-19</td>\n",
              "      <td>33</td>\n",
              "      <td>34</td>\n",
              "      <td>NaN</td>\n",
              "      <td>36</td>\n",
              "      <td>NaN</td>\n",
              "    </tr>\n",
              "  </tbody>\n",
              "</table>\n",
              "</div>\n",
              "      <button class=\"colab-df-convert\" onclick=\"convertToInteractive('df-e89a65dd-10bc-4a82-95d3-636f2574b559')\"\n",
              "              title=\"Convert this dataframe to an interactive table.\"\n",
              "              style=\"display:none;\">\n",
              "        \n",
              "  <svg xmlns=\"http://www.w3.org/2000/svg\" height=\"24px\"viewBox=\"0 0 24 24\"\n",
              "       width=\"24px\">\n",
              "    <path d=\"M0 0h24v24H0V0z\" fill=\"none\"/>\n",
              "    <path d=\"M18.56 5.44l.94 2.06.94-2.06 2.06-.94-2.06-.94-.94-2.06-.94 2.06-2.06.94zm-11 1L8.5 8.5l.94-2.06 2.06-.94-2.06-.94L8.5 2.5l-.94 2.06-2.06.94zm10 10l.94 2.06.94-2.06 2.06-.94-2.06-.94-.94-2.06-.94 2.06-2.06.94z\"/><path d=\"M17.41 7.96l-1.37-1.37c-.4-.4-.92-.59-1.43-.59-.52 0-1.04.2-1.43.59L10.3 9.45l-7.72 7.72c-.78.78-.78 2.05 0 2.83L4 21.41c.39.39.9.59 1.41.59.51 0 1.02-.2 1.41-.59l7.78-7.78 2.81-2.81c.8-.78.8-2.07 0-2.86zM5.41 20L4 18.59l7.72-7.72 1.47 1.35L5.41 20z\"/>\n",
              "  </svg>\n",
              "      </button>\n",
              "      \n",
              "  <style>\n",
              "    .colab-df-container {\n",
              "      display:flex;\n",
              "      flex-wrap:wrap;\n",
              "      gap: 12px;\n",
              "    }\n",
              "\n",
              "    .colab-df-convert {\n",
              "      background-color: #E8F0FE;\n",
              "      border: none;\n",
              "      border-radius: 50%;\n",
              "      cursor: pointer;\n",
              "      display: none;\n",
              "      fill: #1967D2;\n",
              "      height: 32px;\n",
              "      padding: 0 0 0 0;\n",
              "      width: 32px;\n",
              "    }\n",
              "\n",
              "    .colab-df-convert:hover {\n",
              "      background-color: #E2EBFA;\n",
              "      box-shadow: 0px 1px 2px rgba(60, 64, 67, 0.3), 0px 1px 3px 1px rgba(60, 64, 67, 0.15);\n",
              "      fill: #174EA6;\n",
              "    }\n",
              "\n",
              "    [theme=dark] .colab-df-convert {\n",
              "      background-color: #3B4455;\n",
              "      fill: #D2E3FC;\n",
              "    }\n",
              "\n",
              "    [theme=dark] .colab-df-convert:hover {\n",
              "      background-color: #434B5C;\n",
              "      box-shadow: 0px 1px 3px 1px rgba(0, 0, 0, 0.15);\n",
              "      filter: drop-shadow(0px 1px 2px rgba(0, 0, 0, 0.3));\n",
              "      fill: #FFFFFF;\n",
              "    }\n",
              "  </style>\n",
              "\n",
              "      <script>\n",
              "        const buttonEl =\n",
              "          document.querySelector('#df-e89a65dd-10bc-4a82-95d3-636f2574b559 button.colab-df-convert');\n",
              "        buttonEl.style.display =\n",
              "          google.colab.kernel.accessAllowed ? 'block' : 'none';\n",
              "\n",
              "        async function convertToInteractive(key) {\n",
              "          const element = document.querySelector('#df-e89a65dd-10bc-4a82-95d3-636f2574b559');\n",
              "          const dataTable =\n",
              "            await google.colab.kernel.invokeFunction('convertToInteractive',\n",
              "                                                     [key], {});\n",
              "          if (!dataTable) return;\n",
              "\n",
              "          const docLinkHtml = 'Like what you see? Visit the ' +\n",
              "            '<a target=\"_blank\" href=https://colab.research.google.com/notebooks/data_table.ipynb>data table notebook</a>'\n",
              "            + ' to learn more about interactive tables.';\n",
              "          element.innerHTML = '';\n",
              "          dataTable['output_type'] = 'display_data';\n",
              "          await google.colab.output.renderOutput(dataTable, element);\n",
              "          const docLink = document.createElement('div');\n",
              "          docLink.innerHTML = docLinkHtml;\n",
              "          element.appendChild(docLink);\n",
              "        }\n",
              "      </script>\n",
              "    </div>\n",
              "  </div>\n",
              "  "
            ]
          },
          "metadata": {},
          "execution_count": 201
        }
      ],
      "source": [
        "data.head(10)"
      ]
    },
    {
      "cell_type": "code",
      "source": [
        "row = data.iloc[1]"
      ],
      "metadata": {
        "id": "jPHeKXNw_yNa"
      },
      "execution_count": null,
      "outputs": []
    },
    {
      "cell_type": "markdown",
      "source": [
        "VEMS en litre"
      ],
      "metadata": {
        "id": "fkWva-OvzorW"
      }
    },
    {
      "cell_type": "code",
      "source": [
        "for index, row in data.iterrows():\n",
        "    temps = [row[\"Date de greffe\"], row[\"Date Examen\"], row[\"Date de rejet\"]]\n",
        "    VEMS_litre = [0, 0, 0]\n",
        "    for i in range(3):\n",
        "        if temps[i] == row[\"Date de rejet\"]:\n",
        "            VEMS_litre[i] = row[\"VEMS en litre\"]\n",
        "        else :\n",
        "            VEMS_litre[i] = row[\"VEMS en litre vrai\"]\n",
        "    plt.plot(temps, VEMS_litre)\n",
        "plt.title(\"VEMS EN LITRE\")    \n",
        "plt.xlabel(\"temps\")\n",
        "plt.ylabel(\"VEMS_pourcentage\")\n",
        "plt.show()"
      ],
      "metadata": {
        "id": "UIKTY0NWlP2N"
      },
      "execution_count": null,
      "outputs": []
    },
    {
      "cell_type": "code",
      "source": [
        "plt.savefig('my_graph.png')"
      ],
      "metadata": {
        "id": "l9SBSPI07SU5"
      },
      "execution_count": null,
      "outputs": []
    },
    {
      "cell_type": "markdown",
      "source": [
        "VEMS en %"
      ],
      "metadata": {
        "id": "FjTKU-gzziot"
      }
    },
    {
      "cell_type": "code",
      "source": [
        "for index, row in data.iterrows():\n",
        "    temps = [row[\"Date de greffe\"], row[\"Date Examen\"], row[\"Date de rejet\"]]\n",
        "    VEMS_litre = [0, 0, 0]\n",
        "    for i in range(3):\n",
        "        if temps[i] == row[\"Date de rejet\"]:\n",
        "            VEMS_litre[i] = row[\"VEMS en % de la théorique\"]\n",
        "        else :\n",
        "            VEMS_litre[i] = row[\"VEMS en % de la théorique.1\"]\n",
        "    plt.plot(temps, VEMS_litre)"
      ],
      "metadata": {
        "id": "ZFJi1sXFyb4B"
      },
      "execution_count": null,
      "outputs": []
    },
    {
      "cell_type": "code",
      "source": [
        "plt.savefig('VEMSpourcentage.png')"
      ],
      "metadata": {
        "id": "ema1Juf29bVI"
      },
      "execution_count": null,
      "outputs": []
    }
  ],
  "metadata": {
    "colab": {
      "provenance": [],
      "include_colab_link": true
    },
    "kernelspec": {
      "display_name": "Python 3",
      "name": "python3"
    },
    "language_info": {
      "name": "python"
    }
  },
  "nbformat": 4,
  "nbformat_minor": 0
}